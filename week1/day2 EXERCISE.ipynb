{
 "cells": [
  {
   "cell_type": "markdown",
   "id": "d15d8294-3328-4e07-ad16-8a03e9bbfdb9",
   "metadata": {},
   "source": [
    "# Welcome to your first assignment!\n",
    "\n",
    "Instructions are below. Please give this a try, and look in the solutions folder if you get stuck (or feel free to ask me!)"
   ]
  },
  {
   "cell_type": "markdown",
   "id": "ada885d9-4d42-4d9b-97f0-74fbbbfe93a9",
   "metadata": {},
   "source": [
    "<table style=\"margin: 0; text-align: left;\">\n",
    "    <tr>\n",
    "        <td style=\"width: 150px; height: 150px; vertical-align: middle;\">\n",
    "            <img src=\"../resources.jpg\" width=\"150\" height=\"150\" style=\"display: block;\" />\n",
    "        </td>\n",
    "        <td>\n",
    "            <h2 style=\"color:#f71;\">Just before we get to the assignment --</h2>\n",
    "            <span style=\"color:#f71;\">I thought I'd take a second to point you at this page of useful resources for the course. This includes links to all the slides.<br/>\n",
    "            <a href=\"https://edwarddonner.com/2024/11/13/llm-engineering-resources/\">https://edwarddonner.com/2024/11/13/llm-engineering-resources/</a><br/>\n",
    "            Please keep this bookmarked, and I'll continue to add more useful links there over time.\n",
    "            </span>\n",
    "        </td>\n",
    "    </tr>\n",
    "</table>"
   ]
  },
  {
   "cell_type": "markdown",
   "id": "6e9fa1fc-eac5-4d1d-9be4-541b3f2b3458",
   "metadata": {},
   "source": [
    "# HOMEWORK EXERCISE ASSIGNMENT\n",
    "\n",
    "Upgrade the day 1 project to summarize a webpage to use an Open Source model running locally via Ollama rather than OpenAI\n",
    "\n",
    "You'll be able to use this technique for all subsequent projects if you'd prefer not to use paid APIs.\n",
    "\n",
    "**Benefits:**\n",
    "1. No API charges - open-source\n",
    "2. Data doesn't leave your box\n",
    "\n",
    "**Disadvantages:**\n",
    "1. Significantly less power than Frontier Model\n",
    "\n",
    "## Recap on installation of Ollama\n",
    "\n",
    "Simply visit [ollama.com](https://ollama.com) and install!\n",
    "\n",
    "Once complete, the ollama server should already be running locally.  \n",
    "If you visit:  \n",
    "[http://localhost:11434/](http://localhost:11434/)\n",
    "\n",
    "You should see the message `Ollama is running`.  \n",
    "\n",
    "If not, bring up a new Terminal (Mac) or Powershell (Windows) and enter `ollama serve`  \n",
    "And in another Terminal (Mac) or Powershell (Windows), enter `ollama pull llama3.2`  \n",
    "Then try [http://localhost:11434/](http://localhost:11434/) again.\n",
    "\n",
    "If Ollama is slow on your machine, try using `llama3.2:1b` as an alternative. Run `ollama pull llama3.2:1b` from a Terminal or Powershell, and change the code below from `MODEL = \"llama3.2\"` to `MODEL = \"llama3.2:1b\"`"
   ]
  },
  {
   "cell_type": "code",
   "execution_count": 73,
   "id": "4e2a9393-7767-488e-a8bf-27c12dca35bd",
   "metadata": {},
   "outputs": [],
   "source": [
    "# imports\n",
    "\n",
    "import requests\n",
    "from bs4 import BeautifulSoup\n",
    "from IPython.display import Markdown, display"
   ]
  },
  {
   "cell_type": "code",
   "execution_count": 2,
   "id": "29ddd15d-a3c5-4f4e-a678-873f56162724",
   "metadata": {},
   "outputs": [],
   "source": [
    "# Constants\n",
    "\n",
    "OLLAMA_API = \"http://localhost:11434/api/chat\"\n",
    "HEADERS = {\"Content-Type\": \"application/json\"}\n",
    "MODEL = \"llama3.2\""
   ]
  },
  {
   "cell_type": "code",
   "execution_count": 3,
   "id": "dac0a679-599c-441f-9bf2-ddc73d35b940",
   "metadata": {},
   "outputs": [],
   "source": [
    "# Create a messages list using the same format that we used for OpenAI\n",
    "\n",
    "messages = [\n",
    "    {\"role\": \"user\", \"content\": \"Describe some of the business applications of Generative AI\"}\n",
    "]"
   ]
  },
  {
   "cell_type": "code",
   "execution_count": 4,
   "id": "7bb9c624-14f0-4945-a719-8ddb64f66f47",
   "metadata": {},
   "outputs": [],
   "source": [
    "payload = {\n",
    "        \"model\": MODEL,\n",
    "        \"messages\": messages,\n",
    "        \"stream\": False\n",
    "    }"
   ]
  },
  {
   "cell_type": "code",
   "execution_count": 5,
   "id": "479ff514-e8bd-4985-a572-2ea28bb4fa40",
   "metadata": {},
   "outputs": [
    {
     "name": "stderr",
     "output_type": "stream",
     "text": [
      "'ollama' is not recognized as an internal or external command,\n",
      "operable program or batch file.\n"
     ]
    }
   ],
   "source": [
    "# Let's just make sure the model is loaded\n",
    "\n",
    "!ollama pull llama3.2"
   ]
  },
  {
   "cell_type": "code",
   "execution_count": 7,
   "id": "42b9f644-522d-4e05-a691-56e7658c0ea9",
   "metadata": {},
   "outputs": [
    {
     "name": "stdout",
     "output_type": "stream",
     "text": [
      "Generative AI has numerous business applications across various industries, including:\n",
      "\n",
      "1. **Content Generation**: Generative AI can be used to create high-quality content such as blog posts, articles, social media posts, and even entire books. This saves time and resources for businesses that need to produce large amounts of content.\n",
      "2. **Product Design**: Generative AI can help designers create new product designs, prototypes, and models by generating 3D models, CAD files, and even physical prototypes.\n",
      "3. **Customer Service Chatbots**: Generative AI-powered chatbots can be used to provide customer support, answer frequently asked questions, and route complex issues to human representatives.\n",
      "4. **Marketing Automation**: Generative AI can help automate marketing campaigns by generating personalized email templates, social media posts, and ad copy.\n",
      "5. **Data Analysis**: Generative AI can be used to analyze large datasets, identify patterns, and make predictions about future trends and outcomes.\n",
      "6. **Predictive Maintenance**: Generative AI can be used to predict equipment failures, optimize maintenance schedules, and reduce downtime for businesses with complex machinery.\n",
      "7. **Creative Industries**: Generative AI can be used in the creative industries such as music, video production, and visual effects to generate new content, collaborate with humans, or even replace human creatives in some cases.\n",
      "8. **Sales Enablement**: Generative AI can be used to create personalized sales content, predict customer behavior, and provide real-time coaching to sales teams.\n",
      "9. **Cybersecurity**: Generative AI can be used to detect and respond to cyber threats by analyzing network traffic, identifying patterns, and predicting potential attacks.\n",
      "10. **Supply Chain Optimization**: Generative AI can be used to optimize supply chain logistics, predict demand, and identify bottlenecks in the supply chain.\n",
      "\n",
      "Some specific examples of businesses that are using Generative AI include:\n",
      "\n",
      "* **Amazon**: Using Generative AI to create personalized product recommendations and generate content for their advertising campaigns.\n",
      "* **Google**: Using Generative AI to improve search results, generate new features, and create personalized user experiences.\n",
      "* **Netflix**: Using Generative AI to create personalized movie and TV show recommendations and generate new content.\n",
      "* **Microsoft**: Using Generative AI to create personalized Office documents, images, and videos.\n",
      "\n",
      "These are just a few examples of the many businesses that are using Generative AI to improve their operations, customer experiences, and bottom line.\n"
     ]
    }
   ],
   "source": [
    "# If this doesn't work for any reason, try the 2 versions in the following cells\n",
    "# And double check the instructions in the 'Recap on installation of Ollama' at the top of this lab\n",
    "# And if none of that works - contact me!\n",
    "\n",
    "response = requests.post(OLLAMA_API, json=payload, headers=HEADERS)\n",
    "print(response.json()['message']['content'])"
   ]
  },
  {
   "cell_type": "markdown",
   "id": "6a021f13-d6a1-4b96-8e18-4eae49d876fe",
   "metadata": {},
   "source": [
    "# Introducing the ollama package\n",
    "\n",
    "And now we'll do the same thing, but using the elegant ollama python package instead of a direct HTTP call.\n",
    "\n",
    "Under the hood, it's making the same call as above to the ollama server running at localhost:11434"
   ]
  },
  {
   "cell_type": "code",
   "execution_count": 8,
   "id": "7745b9c4-57dc-4867-9180-61fa5db55eb8",
   "metadata": {},
   "outputs": [
    {
     "name": "stdout",
     "output_type": "stream",
     "text": [
      "Generative AI has numerous business applications across various industries. Here are some examples:\n",
      "\n",
      "1. **Content Generation**: Generative AI can be used to create high-quality content such as articles, social media posts, and product descriptions. This can help businesses save time and resources on content creation.\n",
      "2. **Image and Video Creation**: Generative AI can generate images and videos that can be used for advertising, marketing, and product visualization.\n",
      "3. **Chatbots and Virtual Assistants**: Generative AI can be used to create chatbots and virtual assistants that can provide customer support and answer frequently asked questions.\n",
      "4. **Predictive Maintenance**: Generative AI can analyze sensor data from industrial equipment and predict when maintenance is needed, reducing downtime and increasing productivity.\n",
      "5. **Personalized Recommendations**: Generative AI can analyze customer behavior and preferences to generate personalized product recommendations.\n",
      "6. **Automated Data Annotation**: Generative AI can be used to automate the annotation of large datasets, reducing the time and cost associated with human annotation.\n",
      "7. **Creative Writing**: Generative AI can be used to generate creative writing such as poetry, short stories, and even entire scripts.\n",
      "8. **Music Composition**: Generative AI can be used to compose music for advertising, films, and other media.\n",
      "9. **Design Automation**: Generative AI can be used to automate the design process for products such as cars, airplanes, and buildings.\n",
      "10. **Supply Chain Optimization**: Generative AI can analyze data from supply chain operations and predict demand, reducing inventory levels and increasing efficiency.\n",
      "\n",
      "Some specific business applications of Generative AI include:\n",
      "\n",
      "* **Sales and Marketing**: Generative AI can be used to generate personalized product recommendations, automate sales messaging, and create targeted advertising campaigns.\n",
      "* **Human Resources**: Generative AI can be used to analyze employee data and predict turnover, identify talent gaps, and generate personalized career development plans.\n",
      "* **Finance and Banking**: Generative AI can be used to analyze financial data and predict credit risk, detect anomalies in transactions, and generate investment recommendations.\n",
      "* **Healthcare**: Generative AI can be used to analyze medical data and predict patient outcomes, identify potential health risks, and generate personalized treatment plans.\n",
      "\n",
      "These are just a few examples of the many business applications of Generative AI. As the technology continues to evolve, we can expect to see even more innovative use cases emerge.\n"
     ]
    }
   ],
   "source": [
    "import ollama\n",
    "\n",
    "response = ollama.chat(model=MODEL, messages=messages)\n",
    "print(response['message']['content'])"
   ]
  },
  {
   "cell_type": "markdown",
   "id": "a4704e10-f5fb-4c15-a935-f046c06fb13d",
   "metadata": {},
   "source": [
    "## Alternative approach - using OpenAI python library to connect to Ollama"
   ]
  },
  {
   "cell_type": "code",
   "execution_count": 9,
   "id": "23057e00-b6fc-4678-93a9-6b31cb704bff",
   "metadata": {},
   "outputs": [
    {
     "name": "stdout",
     "output_type": "stream",
     "text": [
      "Generative Artificial Intelligence (AI) has numerous business applications across various industries. Some examples include:\n",
      "\n",
      "1. **Content Creation**: Generative AI can create high-quality content such as articles, social media posts, music, and videos at scale and speed. This can help businesses reduce content creation costs and increase efficiency.\n",
      "\n",
      "2. **Marketing and Advertising**: Generative AI can generate personalized ads, product descriptions, and social media campaigns that are tailored to individual customers' interests and preferences.\n",
      "\n",
      "3. **Product Design**: Generative AI tools such as CAD software can design and generative parts of the product and suggest variations to try in terms of style, pattern and usage.\n",
      " \n",
      "4. **Customer Service Chatbots**: Generative AI-powered chatbots can respond quickly to customer inquiries, provide personalized support, and help improve customer experience.\n",
      "\n",
      "5.  **Recommendation Systems**: Generative AI-powered recommendation engines can analyze user behavior and preferences to suggest products or services based on individual interests.\n",
      "\n",
      "6.  **Image and Video Generation**: Businesses can use Generative AI tools to generate high-quality images and videos that they can use in marketing materials, presentations, and social media platforms.\n",
      " \n",
      "7.  **Business Strategy Analysis**: Generative AI tools such as natural language processing (NLP) and machine learning algorithms can analyze business data, identify patterns and trends.\n",
      "\n",
      "8   .**Data Curation**: Generative AI tools can help curate high-quality, relevant data that can be used to train machine learning models.\n",
      " \n",
      "9.  **Supply Chain Optimization**: Generative AI tools can help optimize supply chains by analyzing factors such as inventory levels, shipping routes, and demand forecasting.\n",
      "\n",
      "\n",
      "10. **Fraud Detection**: Generative AI-powered systems can analyze large volumes of data to identify patterns indicative of fraudulent activity.\n",
      "\n",
      "While these examples illustrate the vast potential of generative AI in business applications, it is worth noting that most industries still must navigate data governance, content rights, data quality considerations  and ensure ethics and bias concerns aren’t overlooked among its use.\n"
     ]
    }
   ],
   "source": [
    "# There's actually an alternative approach that some people might prefer\n",
    "# You can use the OpenAI client python library to call Ollama:\n",
    "\n",
    "from openai import OpenAI\n",
    "ollama_via_openai = OpenAI(base_url='http://localhost:11434/v1', api_key='ollama')\n",
    "\n",
    "response = ollama_via_openai.chat.completions.create(\n",
    "    model=MODEL,\n",
    "    messages=messages\n",
    ")\n",
    "\n",
    "print(response.choices[0].message.content)"
   ]
  },
  {
   "cell_type": "markdown",
   "id": "9f9e22da-b891-41f6-9ac9-bd0c0a5f4f44",
   "metadata": {},
   "source": [
    "## Are you confused about why that works?\n",
    "\n",
    "It seems strange, right? We just used OpenAI code to call Ollama?? What's going on?!\n",
    "\n",
    "Here's the scoop:\n",
    "\n",
    "The python class `OpenAI` is simply code written by OpenAI engineers that makes calls over the internet to an endpoint.  \n",
    "\n",
    "When you call `openai.chat.completions.create()`, this python code just makes a web request to the following url: \"https://api.openai.com/v1/chat/completions\"\n",
    "\n",
    "Code like this is known as a \"client library\" - it's just wrapper code that runs on your machine to make web requests. The actual power of GPT is running on OpenAI's cloud behind this API, not on your computer!\n",
    "\n",
    "OpenAI was so popular, that lots of other AI providers provided identical web endpoints, so you could use the same approach.\n",
    "\n",
    "So Ollama has an endpoint running on your local box at http://localhost:11434/v1/chat/completions  \n",
    "And in week 2 we'll discover that lots of other providers do this too, including Gemini and DeepSeek.\n",
    "\n",
    "And then the team at OpenAI had a great idea: they can extend their client library so you can specify a different 'base url', and use their library to call any compatible API.\n",
    "\n",
    "That's it!\n",
    "\n",
    "So when you say: `ollama_via_openai = OpenAI(base_url='http://localhost:11434/v1', api_key='ollama')`  \n",
    "Then this will make the same endpoint calls, but to Ollama instead of OpenAI."
   ]
  },
  {
   "cell_type": "markdown",
   "id": "bc7d1de3-e2ac-46ff-a302-3b4ba38c4c90",
   "metadata": {},
   "source": [
    "## Also trying the amazing reasoning model DeepSeek\n",
    "\n",
    "Here we use the version of DeepSeek-reasoner that's been distilled to 1.5B.  \n",
    "This is actually a 1.5B variant of Qwen that has been fine-tuned using synethic data generated by Deepseek R1.\n",
    "\n",
    "Other sizes of DeepSeek are [here](https://ollama.com/library/deepseek-r1) all the way up to the full 671B parameter version, which would use up 404GB of your drive and is far too large for most!"
   ]
  },
  {
   "cell_type": "code",
   "execution_count": 10,
   "id": "cf9eb44e-fe5b-47aa-b719-0bb63669ab3d",
   "metadata": {},
   "outputs": [
    {
     "name": "stderr",
     "output_type": "stream",
     "text": [
      "'ollama' is not recognized as an internal or external command,\n",
      "operable program or batch file.\n"
     ]
    }
   ],
   "source": [
    "!ollama pull deepseek-r1:1.5b"
   ]
  },
  {
   "cell_type": "code",
   "execution_count": null,
   "id": "1d3d554b-e00d-4c08-9300-45e073950a76",
   "metadata": {},
   "outputs": [],
   "source": [
    "# This may take a few minutes to run! You should then see a fascinating \"thinking\" trace inside <think> tags, followed by some decent definitions\n",
    "\n",
    "response = ollama_via_openai.chat.completions.create(\n",
    "    model=\"deepseek-r1:1.5b\",\n",
    "    messages=[{\"role\": \"user\", \"content\": \"Please give definitions of some core concepts behind LLMs: a neural network, attention and the transformer\"}]\n",
    ")\n",
    "\n",
    "print(response.choices[0].message.content)"
   ]
  },
  {
   "cell_type": "markdown",
   "id": "1622d9bb-5c68-4d4e-9ca4-b492c751f898",
   "metadata": {},
   "source": [
    "# NOW the exercise for you\n",
    "\n",
    "Take the code from day1 and incorporate it here, to build a website summarizer that uses Llama 3.2 running locally instead of OpenAI; use either of the above approaches."
   ]
  },
  {
   "cell_type": "code",
   "execution_count": 74,
   "id": "6ce37704-0ae2-4af9-b851-427e40b2bc9a",
   "metadata": {},
   "outputs": [],
   "source": [
    "# imports\n",
    "\n",
    "import os\n",
    "import requests\n",
    "from dotenv import load_dotenv\n",
    "from bs4 import BeautifulSoup\n",
    "from IPython.display import Markdown, display\n",
    "from openai import OpenAI"
   ]
  },
  {
   "cell_type": "code",
   "execution_count": 75,
   "id": "6de38216-6d1c-48c4-877b-86d403f4e0f8",
   "metadata": {},
   "outputs": [],
   "source": [
    "\n",
    "\n",
    "# A class to represent a Webpage\n",
    "\n",
    "class Website:\n",
    "    \"\"\"\n",
    "    A utility class to represent a Website that we have scraped\n",
    "    \"\"\"\n",
    "    url: str\n",
    "    title: str\n",
    "    text: str\n",
    "\n",
    "    def __init__(self, url):\n",
    "        \"\"\"\n",
    "        Create this Website object from the given url using the BeautifulSoup library\n",
    "        \"\"\"\n",
    "        self.url = url\n",
    "        response = requests.get(url)\n",
    "        soup = BeautifulSoup(response.content, 'html.parser')\n",
    "        self.title = soup.title.string if soup.title else \"No title found\"\n",
    "        for irrelevant in soup.body([\"script\", \"style\", \"img\", \"input\"]):\n",
    "            irrelevant.decompose()\n",
    "        self.text = soup.body.get_text(separator=\"\\n\", strip=True)"
   ]
  },
  {
   "cell_type": "code",
   "execution_count": 76,
   "id": "7d7cd217-421a-4063-8263-a033792a5c15",
   "metadata": {},
   "outputs": [],
   "source": [
    "system_prompt = \"You are an assistant that analyzes the contents of a website \\\n",
    "and provides a short summary, ignoring text that might be navigation related. \\\n",
    "Respond in markdown.\""
   ]
  },
  {
   "cell_type": "code",
   "execution_count": 77,
   "id": "275ab4b7-b9d7-4e29-a57f-8ac029d335e2",
   "metadata": {},
   "outputs": [],
   "source": [
    "def user_prompt_for(website):\n",
    "    user_prompt = f\"You are looking at a website titled:  {website.title}\"\n",
    "    user_prompt += \"\\n\\nThe contents of this website is as follows; please provide a short summary of this website in markdown. If it includes news or announcements, then summarize these too.\\n\\n\"\n",
    "    user_prompt += website.text\n",
    "    return user_prompt"
   ]
  },
  {
   "cell_type": "code",
   "execution_count": 78,
   "id": "5d3322cc-8d49-45a2-bac2-63ce5c5c625f",
   "metadata": {},
   "outputs": [],
   "source": [
    "def messages_for(website):\n",
    "    return [\n",
    "        {\"role\": \"system\", \"content\": system_prompt},\n",
    "        {\"role\": \"user\", \"content\": user_prompt_for(website)}\n",
    "    ]"
   ]
  },
  {
   "cell_type": "code",
   "execution_count": 81,
   "id": "9d90b5ed-4037-43c7-b2d6-16363e412aa2",
   "metadata": {},
   "outputs": [],
   "source": [
    "def summarize(url):\n",
    "    website = Website(url)\n",
    "    user_prompt = user_prompt_for(website)\n",
    "    messages = messages_for(website)\n",
    "    response = ollama.chat(model=MODEL, messages=messages)\n",
    "    return response['message']['content']"
   ]
  },
  {
   "cell_type": "code",
   "execution_count": 84,
   "id": "b5ddaf68-109c-4c14-a687-6276f28c05d3",
   "metadata": {},
   "outputs": [
    {
     "data": {
      "text/markdown": [
       "**Summary of the CNN Website**\n",
       "==========================\n",
       "\n",
       "### Overview\n",
       "\n",
       "The CNN website is a news and information portal that provides breaking news, in-depth analysis, and updates on various topics such as politics, business, health, entertainment, and more.\n",
       "\n",
       "### Featured Sections\n",
       "\n",
       "*   **News**: Breaking news and latest updates from around the world.\n",
       "*   **Analysis**: In-depth analysis and opinion pieces on current events.\n",
       "*   **Video**: News videos, interviews, and live coverage.\n",
       "*   **Business**: Financial news, market analysis, and business trends.\n",
       "*   **Entertainment**: Celebrity news, movie reviews, and entertainment features.\n",
       "*   **Sports**: Sports news, scores, and updates.\n",
       "\n",
       "### Articles and Topics\n",
       "\n",
       "The website features a wide range of articles and topics, including:\n",
       "\n",
       "*   **Politics**: News and analysis on US politics, international relations, and global events.\n",
       "*   **Business**: Financial news, market trends, and business insights.\n",
       "*   **Health**: Medical news, health trends, and wellness tips.\n",
       "*   **Entertainment**: Celebrity news, movie reviews, and entertainment features.\n",
       "*   **Sports**: Sports news, scores, and updates.\n",
       "\n",
       "### Additional Features\n",
       "\n",
       "*   **Live TV**: Live coverage of CNN's programming, including news, analysis, and entertainment shows.\n",
       "*   **Listen**: Audio content, including podcasts and live radio broadcasts.\n",
       "*   **Subscribe**: Newsletters and email subscriptions for breaking news alerts and exclusive content."
      ],
      "text/plain": [
       "<IPython.core.display.Markdown object>"
      ]
     },
     "metadata": {},
     "output_type": "display_data"
    }
   ],
   "source": [
    "url = \"https://cnn.com\"\n",
    "content = summarize(url)\n",
    "display(Markdown(content))"
   ]
  },
  {
   "cell_type": "code",
   "execution_count": null,
   "id": "bc8b719c-41ae-465f-be04-c7676ed07cef",
   "metadata": {},
   "outputs": [],
   "source": []
  }
 ],
 "metadata": {
  "kernelspec": {
   "display_name": "Python 3 (ipykernel)",
   "language": "python",
   "name": "python3"
  },
  "language_info": {
   "codemirror_mode": {
    "name": "ipython",
    "version": 3
   },
   "file_extension": ".py",
   "mimetype": "text/x-python",
   "name": "python",
   "nbconvert_exporter": "python",
   "pygments_lexer": "ipython3",
   "version": "3.11.13"
  }
 },
 "nbformat": 4,
 "nbformat_minor": 5
}
