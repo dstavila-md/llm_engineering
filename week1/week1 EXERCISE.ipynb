{
 "cells": [
  {
   "cell_type": "markdown",
   "id": "fe12c203-e6a6-452c-a655-afb8a03a4ff5",
   "metadata": {},
   "source": [
    "# End of week 1 exercise\n",
    "\n",
    "To demonstrate your familiarity with OpenAI API, and also Ollama, build a tool that takes a technical question,  \n",
    "and responds with an explanation. This is a tool that you will be able to use yourself during the course!"
   ]
  },
  {
   "cell_type": "code",
   "execution_count": 11,
   "id": "c1070317-3ed9-4659-abe3-828943230e03",
   "metadata": {},
   "outputs": [],
   "source": [
    "# imports\n",
    "\n",
    "import os\n",
    "import requests\n",
    "import json\n",
    "from typing import List\n",
    "from dotenv import load_dotenv\n",
    "from bs4 import BeautifulSoup\n",
    "from IPython.display import Markdown, display, update_display\n",
    "from openai import OpenAI"
   ]
  },
  {
   "cell_type": "code",
   "execution_count": 12,
   "id": "4a456906-915a-4bfd-bb9d-57e505c5093f",
   "metadata": {},
   "outputs": [],
   "source": [
    "# constants\n",
    "\n",
    "MODEL_GPT = 'gpt-4o-mini'\n",
    "MODEL_LLAMA = 'llama3.2'"
   ]
  },
  {
   "cell_type": "code",
   "execution_count": 13,
   "id": "a8d7923c-5f28-4c30-8556-342d7c8497c1",
   "metadata": {},
   "outputs": [
    {
     "name": "stdout",
     "output_type": "stream",
     "text": [
      "API key looks good so far\n"
     ]
    }
   ],
   "source": [
    "# set up environment\n",
    "\n",
    "load_dotenv(override=True)\n",
    "api_key = os.getenv('OPENAI_API_KEY')\n",
    "\n",
    "if api_key and api_key.startswith('sk-proj-') and len(api_key)>10:\n",
    "    print(\"API key looks good so far\")\n",
    "else:\n",
    "    print(\"There might be a problem with your API key? Please visit the troubleshooting notebook!\")"
   ]
  },
  {
   "cell_type": "code",
   "execution_count": 27,
   "id": "26330638-d1a1-453a-8028-7901a386fb3a",
   "metadata": {},
   "outputs": [],
   "source": [
    "openai = OpenAI()\n",
    "llama_via_open_ai = OpenAI(base_url='http://localhost:11434/v1', api_key='ollama')"
   ]
  },
  {
   "cell_type": "code",
   "execution_count": 20,
   "id": "e390d7f1-94e7-4bf9-a1ae-058f805c3ac8",
   "metadata": {},
   "outputs": [],
   "source": [
    "system_prompt = \"You are a programming assistant that analyzes user questions and creates detailed technical explanations.\\\n",
    "Expect the questions to be related to coding or contain actual lines of code. Respond in markdown.\\\n",
    "\""
   ]
  },
  {
   "cell_type": "code",
   "execution_count": 21,
   "id": "e3a176a2-c7ab-4f95-9090-a2dfdf9bbabc",
   "metadata": {},
   "outputs": [],
   "source": [
    "def messages_for(question):\n",
    "    return [\n",
    "        {\"role\": \"system\", \"content\": system_prompt},\n",
    "        {\"role\": \"user\", \"content\": question}\n",
    "    ]"
   ]
  },
  {
   "cell_type": "code",
   "execution_count": 22,
   "id": "3f0d0137-52b0-47a8-81a8-11a90a010798",
   "metadata": {},
   "outputs": [],
   "source": [
    "# here is the question; type over this to ask something new\n",
    "\n",
    "question = \"\"\"\n",
    "Please explain what this code does and why:\n",
    "yield from {book.get(\"author\") for book in books if book.get(\"author\")}\n",
    "\"\"\""
   ]
  },
  {
   "cell_type": "code",
   "execution_count": 25,
   "id": "60ce7000-a4a5-4cce-a261-e75ef45063b4",
   "metadata": {},
   "outputs": [],
   "source": [
    "# Get gpt-4o-mini to answer, with streaming\n",
    "def gpt_ask_question(question):\n",
    "    stream = openai.chat.completions.create(\n",
    "        model=MODEL_GPT,\n",
    "        messages=messages_for(question),\n",
    "        stream=True\n",
    "    )\n",
    "    \n",
    "    response = \"\"\n",
    "    display_handle = display(Markdown(\"\"), display_id=True)\n",
    "    for chunk in stream:\n",
    "        response += chunk.choices[0].delta.content or ''\n",
    "        update_display(Markdown(response), display_id=display_handle.display_id)"
   ]
  },
  {
   "cell_type": "code",
   "execution_count": 26,
   "id": "3a3f0d76-0d25-47fe-aa72-365f0443a652",
   "metadata": {},
   "outputs": [
    {
     "data": {
      "text/markdown": [
       "The line of code you provided uses a combination of a generator and a set comprehension in Python. Let's break it down step by step to understand its functionality and purpose:\n",
       "\n",
       "### Components of the Code\n",
       "\n",
       "1. **Set Comprehension**: \n",
       "   ```python\n",
       "   {book.get(\"author\") for book in books if book.get(\"author\")}\n",
       "   ```\n",
       "   - **`books`**: This is assumed to be an iterable (like a list or a set) containing book dictionaries. Each dictionary presumably represents a book with various attributes, one of which is the \"author\".\n",
       "   - **`book.get(\"author\")`**: This method retrieves the value for the key \"author\" from each book dictionary. If the key doesn't exist or its value is `None`, it will return `None`.\n",
       "   - **`if book.get(\"author\")`**: This condition checks to ensure that only books with a defined author are included in the resulting set. It filters out entries that do not have valid authors (i.e., `None` values or missing keys).\n",
       "\n",
       "2. **Yielding Values with `yield from`**:\n",
       "   ```python\n",
       "   yield from <iterator>\n",
       "   ```\n",
       "   - **`yield from`**: This keyword is used in Python to delegate part of a generator's operations to another iterable (like a list, generator, or in this case, a set).\n",
       "   - It effectively yields one item at a time from the iterable it is provided. This is useful for creating a generator that can iterate over multiple sources of values efficiently.\n",
       "\n",
       "### Overall Functionality\n",
       "\n",
       "Putting this all together:\n",
       "\n",
       "- The code creates a set of unique authors from a collection of book dictionaries. \n",
       "- The set comprehension runs through all the `books`, checks each book for an author, and collects the authors into a set (ensuring uniqueness).\n",
       "- The `yield from` keyword is then used to yield each author one by one as the generator is iterated over. \n",
       "\n",
       "### Example Use Case\n",
       "\n",
       "If you have a list of books, where each book is a dictionary like this:\n",
       "\n",
       "```python\n",
       "books = [\n",
       "    {\"title\": \"Book One\", \"author\": \"Author A\"},\n",
       "    {\"title\": \"Book Two\", \"author\": \"Author B\"},\n",
       "    {\"title\": \"Book Three\"},  # No 'author' key\n",
       "    {\"title\": \"Book Four\", \"author\": \"Author A\"},  # Duplicate author\n",
       "]\n",
       "```\n",
       "\n",
       "Using your code:\n",
       "\n",
       "```python\n",
       "def get_authors(books):\n",
       "    yield from {book.get(\"author\") for book in books if book.get(\"author\")}\n",
       "```\n",
       "\n",
       "If you iterate over `get_authors(books)`, it would yield:\n",
       "\n",
       "```\n",
       "'Author A'\n",
       "'Author B'\n",
       "```\n",
       "\n",
       "### Conclusion\n",
       "\n",
       "The purpose of the code is to produce an iterable of unique authors from a list of books, thus avoiding duplicates and omitting any books that do not have an specified author. The use of `yield from` makes it possible to yield items iteratively, which is efficient for large datasets or streams of data."
      ],
      "text/plain": [
       "<IPython.core.display.Markdown object>"
      ]
     },
     "metadata": {},
     "output_type": "display_data"
    }
   ],
   "source": [
    "gpt_ask_question(question)"
   ]
  },
  {
   "cell_type": "code",
   "execution_count": 39,
   "id": "8f7c8ea8-4082-4ad0-8751-3301adcf6538",
   "metadata": {},
   "outputs": [],
   "source": [
    "# Get Llama 3.2 to answer\n",
    "\n",
    "def llama_ask_question(question):\n",
    "    stream = llama_via_open_ai.chat.completions.create(\n",
    "        model=MODEL_LLAMA,\n",
    "        messages=messages_for(question),\n",
    "        # messages=[{\"role\": \"user\", \"content\": question}],\n",
    "        stream=True\n",
    "    )\n",
    "    \n",
    "    response = \"\"\n",
    "    display_handle = display(Markdown(\"\"), display_id=True)\n",
    "    for chunk in stream:\n",
    "        response += chunk.choices[0].delta.content or ''\n",
    "        update_display(Markdown(response), display_id=display_handle.display_id)"
   ]
  },
  {
   "cell_type": "code",
   "execution_count": 40,
   "id": "33348123-9712-4933-851f-92d501acaffc",
   "metadata": {},
   "outputs": [
    {
     "data": {
      "text/markdown": [
       "**Delegating Generator Yield**\n",
       "================================\n",
       "\n",
       "The given line of code is using a feature called \"delegation\" or \"sub-generating\", which allows us to bypass the normal yield syntax. Let's break it down:\n",
       "\n",
       "### The Code\n",
       "\n",
       "```python\n",
       "yield from {book.get(\"author\") for book in books if book.get(\"author\")}\n",
       "```\n",
       "\n",
       "### Explanation\n",
       "\n",
       "This line of code uses several features introduced in Python 3.x, specifically:\n",
       "\n",
       "*   **Generators**: defined by the `yield` keyword\n",
       "*   **Dictionaries**: can be iterated over using a dictionary comprehension\n",
       "*   **Delegation through `yield from`**\n",
       "\n",
       "Here's how it works:\n",
       "\n",
       "1.  `{book.get(\"author\") for book in books if book.get(\"author\")}`: This is a dictionary comprehension.\n",
       "    *   It generates a dictionary where each key is an author and the corresponding value is a list of their authored books.\n",
       "    *   The `if` condition filters out any books that do not contain an \"author\" key.\n",
       "2.  `yield from`: This keyword allows us to delegate control to another generator or coroutine, effectively combining them.\n",
       "3.  Since we're using a dictionary comprehension as the delegating object, it essentially turns into a \"generator expression wrapped around a list\".\n",
       "\n",
       "### How It Works Behind the Scenes\n",
       "\n",
       "When you iterate over this delegated yield, Python executes:\n",
       "\n",
       "1.  The original code iterates over `books`.\n",
       "2.  For each book in `books`, it checks if that book contains an author by calling `book.get(\"author\")`. If yes, it contributes their \"author\" to the dictionary comprehension.\n",
       "3.  After generating dictionaries for all authors, Python yields from these generators.\n",
       "\n",
       "### Why It's Used\n",
       "\n",
       "This delegation technique helps to:\n",
       "\n",
       "*   Combine multiple generator expressions into a concise list.\n",
       "*   Simplify complex iteration logic.\n",
       "*   Avoid creating large lists in memory when dealing with huge data inputs.\n",
       "\n",
       "**Example Use Case**\n",
       "\n",
       "```python\n",
       "def get_authors(authorized_books):\n",
       "    \"\"\"Retrieve all authors that wrote authorized books\"\"\"\n",
       "    \n",
       "    # Assuming 'books' is a dictionary where values are dictionaries of book metadata\n",
       "    \n",
       "    def books_get_author(book_dict):\n",
       "        \"\"\"Use yield from to fetch and filter author info\"\"\"\n",
       "        \n",
       "        yield from {book.get(\"author\", None) for book in book_dict[\"books\"] if \"author\" in book}\n",
       "    \n",
       "    return set([book for book, authors in authorized_books.items() if authors])\n",
       "    \n",
       "\n",
       "# Usage example\n",
       "books = {\n",
       "    \"Book 1\": {\"author\": \"John\", \"title\": \"Intro to Python\"},\n",
       "    \"Book 2\": {\"author\": \"Jane\", \"title\": \"Python Fundamentals\"}\n",
       "}\n",
       "\n",
       "authored_books = get_authors(books)\n",
       "\n",
       "for book_title, authors in authored_books.items():\n",
       "    if authors:\n",
       "        print(f\"Title: {book_title}, Author(s): {[e for e in authors]}\")\n",
       "```"
      ],
      "text/plain": [
       "<IPython.core.display.Markdown object>"
      ]
     },
     "metadata": {},
     "output_type": "display_data"
    }
   ],
   "source": [
    "llama_ask_question(question)"
   ]
  },
  {
   "cell_type": "code",
   "execution_count": null,
   "id": "82940da8-2b2f-4af3-9cf1-95b687c71dc5",
   "metadata": {},
   "outputs": [],
   "source": []
  }
 ],
 "metadata": {
  "kernelspec": {
   "display_name": "Python 3 (ipykernel)",
   "language": "python",
   "name": "python3"
  },
  "language_info": {
   "codemirror_mode": {
    "name": "ipython",
    "version": 3
   },
   "file_extension": ".py",
   "mimetype": "text/x-python",
   "name": "python",
   "nbconvert_exporter": "python",
   "pygments_lexer": "ipython3",
   "version": "3.11.13"
  }
 },
 "nbformat": 4,
 "nbformat_minor": 5
}
